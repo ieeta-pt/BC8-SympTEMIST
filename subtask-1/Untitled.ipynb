{
 "cells": [
  {
   "cell_type": "code",
   "execution_count": 4,
   "id": "73e37c67-1769-4d0a-b4c4-5a03cd5a09a6",
   "metadata": {},
   "outputs": [
    {
     "name": "stdout",
     "output_type": "stream",
     "text": [
      "CUDA_VISIBLE_DEVICES=0 python inference-val.py --checkpoint trained-models/lcampillos-None-bilstm-4-ukn-0.8-42/checkpoint-3300\n",
      "CUDA_VISIBLE_DEVICES=0 python inference-val.py --checkpoint trained-models/lcampillos-None-bilstm-4-random-0.8-42/checkpoint-3300\n",
      "CUDA_VISIBLE_DEVICES=0 python inference-val.py --checkpoint trained-models/lcampillos-None-bilstm-4-random-0.5-42/checkpoint-3300\n",
      "CUDA_VISIBLE_DEVICES=0 python inference-val.py --checkpoint trained-models/lcampillos-None-bilstm-4-ukn-0.6-42/checkpoint-3300\n",
      "CUDA_VISIBLE_DEVICES=0 python inference-val.py --checkpoint trained-models/lcampillos-None-bilstm-64-109560/checkpoint-3990\n",
      "CUDA_VISIBLE_DEVICES=0 python inference-val.py --checkpoint trained-models/lcampillos-None-bilstm-4-random-0.4-42/checkpoint-3300\n",
      "CUDA_VISIBLE_DEVICES=0 python inference-val.py --checkpoint trained-models/lcampillos-None-bilstm-4-random-0.6-42/checkpoint-3300\n",
      "CUDA_VISIBLE_DEVICES=0 python inference-val.py --checkpoint trained-models/lcampillos-None-bilstm-4-ukn-0.5-42/checkpoint-3300\n",
      "CUDA_VISIBLE_DEVICES=0 python inference-val.py --checkpoint trained-models/PlanTL-GOB-ES-None-bilstm-64-42/checkpoint-4050\n",
      "CUDA_VISIBLE_DEVICES=0 python inference-val.py --checkpoint trained-models/lcampillos-None-bilstm-4-ukn-0.4-42/checkpoint-3300\n",
      "CUDA_VISIBLE_DEVICES=0 python inference-val.py --checkpoint trained-models/NazaGara-None-bilstm-4-42/checkpoint-4350\n"
     ]
    }
   ],
   "source": [
    "import os\n",
    "# CUDA_VISIBLE_DEVICES=0 python inference-val.py --checkpoint trained-models/lcampillos-None-bilstm-4-ukn-0.8-42/checkpoint-3300\n",
    "\n",
    "for model in os.listdir(\"trained-models\"):\n",
    "    for checkpoint in os.listdir(\"trained-models/\"+model):\n",
    "        print(\"CUDA_VISIBLE_DEVICES=0 python inference-val.py --checkpoint trained-models/\"+model+\"/\"+checkpoint)\n"
   ]
  },
  {
   "cell_type": "code",
   "execution_count": 9,
   "id": "5e011ac1-efaf-4cae-9068-2d2a84901fac",
   "metadata": {},
   "outputs": [
    {
     "name": "stdout",
     "output_type": "stream",
     "text": [
      "val-inference/lcampillos-None-bilstm-4-ukn-0.6-42-checkpoint-3300.json val-inference/.ipynb_checkpoints val-inference/NazaGara-None-bilstm-4-42-checkpoint-4350.json val-inference/lcampillos-None-bilstm-4-random-0.6-42-checkpoint-3300.json val-inference/PlanTL-GOB-ES-None-bilstm-64-42-checkpoint-4050.json val-inference/lcampillos-None-bilstm-4-random-0.4-42-checkpoint-3300.json val-inference/lcampillos-None-bilstm-4-ukn-0.8-42-checkpoint-3300.json val-inference/lcampillos-None-bilstm-4-ukn-0.5-42-checkpoint-3300.json val-inference/lcampillos-None-bilstm-4-random-0.5-42-checkpoint-3300.json val-inference/lcampillos-None-bilstm-4-random-0.8-42-checkpoint-3300.json val-inference/lcampillos-None-bilstm-4-ukn-0.4-42-checkpoint-3300.json "
     ]
    }
   ],
   "source": [
    "for i in os.listdir(\"val-inference\"):\n",
    "    print(\"val-inference/\" + i, end = \" \")"
   ]
  },
  {
   "cell_type": "code",
   "execution_count": 2,
   "id": "c90a4f26-baf1-4384-af50-6a40474a5575",
   "metadata": {
    "scrolled": true
   },
   "outputs": [
    {
     "name": "stderr",
     "output_type": "stream",
     "text": [
      "Token indices sequence length is longer than the specified maximum sequence length for this model (824 > 512). Running this sequence through the model will result in indexing errors\n"
     ]
    },
    {
     "name": "stdout",
     "output_type": "stream",
     "text": [
      "Warning, we found 25 collisions that were automaticly handle by merging strategy\n",
      "Warning, we found 6 collisions that were automaticly handle by merging strategy\n"
     ]
    }
   ],
   "source": [
    "model_checkpoint = \"lcampillos/roberta-es-clinical-trials-ner\"\n",
    "tokenizer = AutoTokenizer.from_pretrained(model_checkpoint)\n",
    "tokenizer.model_max_length = 512\n",
    "\n",
    "\n",
    "# special_tokens = ['[s1]','[e1]', '[s2]','[e2]' ]\n",
    "# num_added_toks = tokenizer.add_tokens(special_tokens, special_tokens=True) ##This line is updated\n",
    "\n",
    "transforms = [BIOTagger(), SelectModelInputs()]\n",
    "#transforms = []\n",
    "#                           tokenizer,\n",
    "#                           context_size=64,\n",
    "#                           test_split_percentage=0.15,\n",
    "#                           train_transformations=None,\n",
    "#                           train_augmentations=None,\n",
    "#                           test_transformations=None\n",
    "\n",
    "# \"../symptemist_train/subtask1-ner/txt\"\n",
    "train_ds, vald_ds = load_train_test_split(\"../symptemist_train/subtask1-ner/\",\n",
    "                                          tokenizer=tokenizer,\n",
    "                                            context_size=64,\n",
    "                                            test_split_percentage=0.15, \n",
    "                                          train_augmentations=None,\n",
    "                                          train_transformations=None,\n",
    "                                         test_transformations=None)"
   ]
  },
  {
   "cell_type": "code",
   "execution_count": 5,
   "id": "4508ecbe-99d6-4d24-ab23-97a25ed74788",
   "metadata": {},
   "outputs": [
    {
     "data": {
      "text/plain": [
       "1073"
      ]
     },
     "execution_count": 5,
     "metadata": {},
     "output_type": "execute_result"
    }
   ],
   "source": [
    "len(train_ds)"
   ]
  },
  {
   "cell_type": "code",
   "execution_count": 4,
   "id": "19d796bd-f116-45b9-8183-c7e437c68dd1",
   "metadata": {},
   "outputs": [
    {
     "ename": "KeyError",
     "evalue": "'rel_id'",
     "output_type": "error",
     "traceback": [
      "\u001b[0;31m---------------------------------------------------------------------------\u001b[0m",
      "\u001b[0;31mKeyError\u001b[0m                                  Traceback (most recent call last)",
      "Cell \u001b[0;32mIn[4], line 3\u001b[0m\n\u001b[1;32m      1\u001b[0m index \u001b[38;5;241m=\u001b[39m \u001b[38;5;241m5\u001b[39m\n\u001b[1;32m      2\u001b[0m train_ds[index]\u001b[38;5;241m.\u001b[39mkeys()\n\u001b[0;32m----> 3\u001b[0m train_ds[index][\u001b[38;5;124m\"\u001b[39m\u001b[38;5;124mdoc_id\u001b[39m\u001b[38;5;124m\"\u001b[39m], train_ds[index][\u001b[38;5;124m\"\u001b[39m\u001b[38;5;124msequence_id\u001b[39m\u001b[38;5;124m\"\u001b[39m], \u001b[43mtrain_ds\u001b[49m\u001b[43m[\u001b[49m\u001b[43mindex\u001b[49m\u001b[43m]\u001b[49m\u001b[43m[\u001b[49m\u001b[38;5;124;43m\"\u001b[39;49m\u001b[38;5;124;43mrel_id\u001b[39;49m\u001b[38;5;124;43m\"\u001b[39;49m\u001b[43m]\u001b[49m, train_ds[index][\u001b[38;5;124m\"\u001b[39m\u001b[38;5;124mlabel\u001b[39m\u001b[38;5;124m\"\u001b[39m], train_ds[index][\u001b[38;5;124m\"\u001b[39m\u001b[38;5;124mnovel\u001b[39m\u001b[38;5;124m\"\u001b[39m]\n",
      "\u001b[0;31mKeyError\u001b[0m: 'rel_id'"
     ]
    }
   ],
   "source": [
    "index = 5\n",
    "train_ds[index].keys()\n",
    "train_ds[index][\"doc_id\"], train_ds[index][\"sequence_id\"], train_ds[index][\"rel_id\"], train_ds[index][\"label\"], train_ds[index][\"novel\"]"
   ]
  },
  {
   "cell_type": "code",
   "execution_count": null,
   "id": "554731d1-1aec-48a7-b103-121f914c8f0c",
   "metadata": {
    "scrolled": true
   },
   "outputs": [],
   "source": [
    "for i in range(100):\n",
    "    print(train_ds[i][\"doc_id\"], train_ds[i][\"sequence_id\"], train_ds[i][\"rel_id\"])"
   ]
  },
  {
   "cell_type": "code",
   "execution_count": null,
   "id": "03f375d7-dc83-44ab-8e04-e0e4192634b0",
   "metadata": {},
   "outputs": [],
   "source": [
    "train_ds[index]['relations']\n",
    "# {'entity1': 'c|Allele|D|-1607',\n",
    "#   'entity2': 'C535531\n"
   ]
  },
  {
   "cell_type": "code",
   "execution_count": null,
   "id": "fa89e66f-8527-4cc0-a761-dd62e1a2bad9",
   "metadata": {},
   "outputs": [],
   "source": [
    "len(train_ds)\n",
    "# ?11341?"
   ]
  },
  {
   "cell_type": "code",
   "execution_count": null,
   "id": "a864d96f-a0f5-42b0-97f1-6776fca4a02f",
   "metadata": {},
   "outputs": [],
   "source": [
    "len(test_ds)\n"
   ]
  },
  {
   "cell_type": "code",
   "execution_count": null,
   "id": "a950476e-6857-4e48-99ed-5a616cb1f352",
   "metadata": {},
   "outputs": [],
   "source": [
    "tmp = [1,2,34,5,4]\n",
    "tmp[1:-1]"
   ]
  },
  {
   "cell_type": "code",
   "execution_count": null,
   "id": "d0faf3e9-f997-4b08-ad47-8d14cf9b9648",
   "metadata": {},
   "outputs": [],
   "source": [
    "tokenizer(\"test\").input_ids\n",
    "\n"
   ]
  },
  {
   "cell_type": "code",
   "execution_count": null,
   "id": "9245138c-21de-4f8c-8be9-90aa15d025e5",
   "metadata": {},
   "outputs": [],
   "source": [
    "import os\n",
    "\n",
    "all_subdirs = [d for d in os.listdir('.') if os.path.isdir(d)]\n",
    "# and get the one with the latest mtime (in Python 2.5 or better):\n",
    "\n",
    "latest_subdir = max(all_subdirs, key=os.path.getmtime)\n",
    "\n",
    "latest_subdir"
   ]
  }
 ],
 "metadata": {
  "kernelspec": {
   "display_name": "Python 3 (ipykernel)",
   "language": "python",
   "name": "python3"
  },
  "language_info": {
   "codemirror_mode": {
    "name": "ipython",
    "version": 3
   },
   "file_extension": ".py",
   "mimetype": "text/x-python",
   "name": "python",
   "nbconvert_exporter": "python",
   "pygments_lexer": "ipython3",
   "version": "3.11.4"
  }
 },
 "nbformat": 4,
 "nbformat_minor": 5
}
