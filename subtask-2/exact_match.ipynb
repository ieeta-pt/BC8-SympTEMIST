{
 "cells": [
  {
   "cell_type": "code",
   "execution_count": 1,
   "id": "a9e36399-23a5-4f11-94e9-cc308fab559b",
   "metadata": {},
   "outputs": [
    {
     "name": "stderr",
     "output_type": "stream",
     "text": [
      "/home/pdfminer/BioCreativeVIII_Track1/biored/lib/python3.11/site-packages/tqdm/auto.py:21: TqdmWarning: IProgress not found. Please update jupyter and ipywidgets. See https://ipywidgets.readthedocs.io/en/stable/user_install.html\n",
      "  from .autonotebook import tqdm as notebook_tqdm\n"
     ]
    }
   ],
   "source": [
    "import os\n",
    "os.environ[\"CUDA_VISIBLE_DEVICES\"] = \"0\"\n",
    "\n",
    "from collections import defaultdict\n",
    "import pandas as pd\n",
    "\n",
    "import numpy as np\n",
    "import torch\n",
    "from tqdm.auto import tqdm\n",
    "from transformers import AutoTokenizer, AutoModel  \n",
    "\n",
    "import random"
   ]
  },
  {
   "cell_type": "code",
   "execution_count": 2,
   "id": "837d3488-111c-4a37-a1f3-c2c3dec4fb62",
   "metadata": {},
   "outputs": [],
   "source": [
    "snomed_corpus = \"../symptemist-train_all_subtasks+gazetteer+multilingual+test_all_subtasks+bg_231006/symptemist_gazetteer/symptemist_gazetter_snomed_ES_v2.tsv\"\n",
    "snomed = pd.read_csv(snomed_corpus,sep=\"\\t\")\n",
    "\n",
    "\n",
    "snomed_code_dictionary = dict()\n",
    "\n",
    "for row in snomed.iterrows():\n",
    "    if row[1]['term'].lower() in snomed_code_dictionary.keys():\n",
    "        snomed_code_dictionary[row[1]['term'].lower()] = snomed_code_dictionary[row[1]['term'].lower()]+ \"+\"+ str(row[1]['code'])\n",
    "    else:\n",
    "        snomed_code_dictionary[row[1]['term'].lower()] = str(row[1]['code'])\n"
   ]
  },
  {
   "cell_type": "code",
   "execution_count": 43,
   "id": "900ff89c-dfe0-4fd8-8b7e-705fc3d9743f",
   "metadata": {},
   "outputs": [],
   "source": [
    "data_file = \"../symptemist-train_all_subtasks+gazetteer+multilingual+test_all_subtasks+bg_231006/symptemist_train/subtask2-linking/symptemist_tsv_train_subtask2.tsv\"\n",
    "#for 3\n",
    "# data_file = \"../symptemist-train_all_subtasks+gazetteer+multilingual+test_all_subtasks+bg_231006/symptemist_multilingual-silver-standard/train/en/symptemist_train_en.tsv\"\n",
    "\n",
    "data = pd.read_csv(data_file,sep=\"\\t\")\n",
    "data = data.sample(frac=1, random_state=42)\n",
    "\n",
    "val_data = data[int(-len(data)*0.5):]\n",
    "data = data[:int(len(data)*0.5)]\n",
    "\n",
    "data_dictionary = dict()\n",
    "for row in data.iterrows():\n",
    "    if row[1]['text'].lower() in data_dictionary.keys():\n",
    "        data_dictionary[row[1]['text'].lower()] = data_dictionary[row[1]['text'].lower()]+ \"+\"+ str(row[1]['code'])\n",
    "    else:\n",
    "        data_dictionary[row[1]['text'].lower()] = str(row[1]['code'])\n",
    "\n"
   ]
  },
  {
   "cell_type": "code",
   "execution_count": 44,
   "id": "37607250-e5e1-4832-908d-c0d60c484b67",
   "metadata": {},
   "outputs": [],
   "source": [
    "# data_files = defaultdict()\n",
    "\n",
    "# for file in data['filename'].unique():\n",
    "#     with open(f\"../symptemist-train_all_subtasks+gazetteer+multilingual+test_task1_230929/symptemist_train/subtask1-ner/txt/{file}.txt\", \"r\") as f:\n",
    "#         data_files[file] = f.read()\n",
    "\n",
    "# val_data_text = []\n",
    "# for sample in val_data.iterrows():\n",
    "#     val_data_text.append(data_files[sample[1]['filename']][sample[1]['span_ini']-100:sample[1]['span_end']+100:])\n",
    "\n",
    "# # span_ini\tspan_end\n",
    "\n"
   ]
  },
  {
   "cell_type": "code",
   "execution_count": 45,
   "id": "98b5aa6e-40af-4bcb-811e-c7f8166de9d3",
   "metadata": {},
   "outputs": [],
   "source": [
    "# checkpoint =\"cambridgeltl/SapBERT-UMLS-2020AB-all-lang-from-XLMR-large\"\n",
    "checkpoint =\"cambridgeltl/SapBERT-UMLS-2020AB-all-lang-from-XLMR\"\n",
    "# checkpoint = \"Blaxzter/LaBSE-sentence-embeddings\"\n",
    "\n",
    "tokenizer = AutoTokenizer.from_pretrained(checkpoint)  \n",
    "model = AutoModel.from_pretrained(checkpoint).cuda()"
   ]
  },
  {
   "cell_type": "code",
   "execution_count": 46,
   "id": "fdbcc35e-61ed-49e1-b12c-486d5282a1ba",
   "metadata": {},
   "outputs": [],
   "source": [
    "def get_embeddings(text, batch_size):\n",
    "\n",
    "    embeddings = []\n",
    "    for i in tqdm(np.arange(0, len(text), batch_size)):\n",
    "        tokens = tokenizer.batch_encode_plus(text[i:i+batch_size], \n",
    "                                           padding=\"max_length\", \n",
    "                                           max_length=25, \n",
    "                                           truncation=True,\n",
    "                                           return_tensors=\"pt\")\n",
    "        toks_cuda = {}\n",
    "        for k,v in tokens.items():\n",
    "            toks_cuda[k] = v.cuda()\n",
    "        # cls_rep = model(**toks_cuda)[0][:,0,:] # use CLS representation as the embedding\n",
    "        cls_rep = model(**toks_cuda)[0].mean(axis=1)\n",
    "        # print(cls_rep.shape)\n",
    "        # break\n",
    "        # [:,0,:] # use CLS representation as the embedding\n",
    "\n",
    "        embeddings.append(cls_rep.cpu().detach().numpy())\n",
    "    \n",
    "    embeddings = np.concatenate(embeddings, axis=0)\n",
    "    return embeddings"
   ]
  },
  {
   "cell_type": "code",
   "execution_count": 47,
   "id": "46b15607-f895-4ae5-8f58-b3d1553aacc7",
   "metadata": {},
   "outputs": [
    {
     "name": "stderr",
     "output_type": "stream",
     "text": [
      "100%|██████████████████████████████████████████████████████████████████████████████████████████████████████████████████████████████████████████████████████| 2575/2575 [02:09<00:00, 19.82it/s]\n",
      "100%|██████████████████████████████████████████████████████████████████████████████████████████████████████████████████████████████████████████████████████████| 28/28 [00:01<00:00, 19.98it/s]\n"
     ]
    }
   ],
   "source": [
    "batch_size = 64\n",
    "snomed_text = list(snomed_code_dictionary.keys())\n",
    "val_data_text = list(val_data['text'].str.lower())\n",
    "\n",
    "snomed_embeddings = get_embeddings(snomed_text, batch_size)\n",
    "val_embeddings = get_embeddings(val_data_text, batch_size)"
   ]
  },
  {
   "cell_type": "code",
   "execution_count": null,
   "id": "94d85a1a-2081-4059-aa59-1b7a06bc68c8",
   "metadata": {},
   "outputs": [],
   "source": []
  },
  {
   "cell_type": "code",
   "execution_count": 48,
   "id": "270c850e-772b-4f85-885e-f59f9d9719dc",
   "metadata": {},
   "outputs": [],
   "source": [
    "def get_norm_emb(emb):\n",
    "    return emb/np.linalg.norm(emb,ord=2, axis=-1, keepdims=True)\n",
    "\n",
    "def get_scores(corpus_embeddings, val_embeddings):\n",
    "    lookup_codes_emb_norm = get_norm_emb(corpus_embeddings).T\n",
    "        \n",
    "    val_embed_norm = get_norm_emb(val_embeddings) \n",
    "    scores = val_embed_norm @ lookup_codes_emb_norm\n",
    "    return scores\n",
    "\n",
    "\n",
    "codes = list(snomed_code_dictionary.values())\n",
    "scores = get_scores(snomed_embeddings,val_embeddings)\n",
    "\n",
    "\n"
   ]
  },
  {
   "cell_type": "code",
   "execution_count": 55,
   "id": "b28e2b29-6fa7-47ef-b547-d0a5eb53980a",
   "metadata": {
    "scrolled": true
   },
   "outputs": [
    {
     "name": "stdout",
     "output_type": "stream",
     "text": [
      "0.5614236509758898\n"
     ]
    }
   ],
   "source": [
    "list_of_codes_per_sample = []\n",
    "\n",
    "for text, score, index in zip(val_data_text, scores, np.argmax(scores, axis=-1)):\n",
    "    if text in data_dictionary.keys():\n",
    "        list_of_codes_per_sample.append(str(data_dictionary[text]))\n",
    "    elif text in snomed_code_dictionary.keys():\n",
    "        list_of_codes_per_sample.append(str(snomed_code_dictionary[text]))\n",
    "    else:\n",
    "        if score[index]>0.5:\n",
    "            list_of_codes_per_sample.append(codes[index])\n",
    "        else:\n",
    "            list_of_codes_per_sample.append(-1)\n",
    "        \n",
    "    \n",
    "correct = 0\n",
    "for i,j,k in zip(list_of_codes_per_sample, val_data['code'], val_data_text):\n",
    "    if i == -1:\n",
    "        i = 'NO_CODE'\n",
    "    for code in i.split(\"+\"):\n",
    "        if code == j:\n",
    "            correct += 1\n",
    "            break\n",
    "    # else:\n",
    "    #     try:\n",
    "    #         print(list(snomed[snomed['code']==int(i)]['term']), list(snomed[snomed['code']==int(j)]['term']), k)\n",
    "    #     except:\n",
    "    #         print(i,j)\n",
    "print(correct/len(list_of_codes_per_sample))"
   ]
  },
  {
   "cell_type": "code",
   "execution_count": null,
   "id": "15ed7098-650e-4de7-9b55-5243cdb80b1c",
   "metadata": {},
   "outputs": [],
   "source": []
  },
  {
   "cell_type": "code",
   "execution_count": 10,
   "id": "caa14714-44b2-4837-9a66-1b6c0e67c3b3",
   "metadata": {},
   "outputs": [],
   "source": [
    "# seed evaluation:\n",
    "#42: 91.95\n",
    "#100: 92.53\n",
    "#1000 91.37\n",
    "#109560 91.52\n",
    "#20% none 88.2\n",
    "\n",
    "# 40 validation - 90.23\n",
    "#80 59.16\n",
    "#50 90.66\n",
    "#50 large -> 90.8"
   ]
  },
  {
   "cell_type": "code",
   "execution_count": null,
   "id": "d259c0a6-f8a8-4ad6-aba0-15c289f46fd4",
   "metadata": {},
   "outputs": [],
   "source": []
  },
  {
   "cell_type": "code",
   "execution_count": 11,
   "id": "50a20466-8954-4ec3-aa2e-0e764bb2663f",
   "metadata": {},
   "outputs": [
    {
     "name": "stdout",
     "output_type": "stream",
     "text": [
      "0.5 0.4410919540229885\n",
      "0.55 0.4425287356321839\n",
      "0.6 0.4410919540229885\n",
      "0.65 0.4425287356321839\n",
      "0.7 0.4410919540229885\n",
      "0.75 0.4339080459770115\n",
      "0.8 0.4267241379310345\n",
      "0.85 0.39798850574712646\n",
      "0.9 0.35201149425287354\n",
      "0.95 0.3045977011494253\n"
     ]
    }
   ],
   "source": [
    "\n",
    "\n",
    "for threshhold in [0.50,0.55, 0.60,0.65,0.70,0.75,0.80,0.85,0.90,0.95]:\n",
    "    list_of_codes_per_sample = []\n",
    "    for index, score in zip(np.argmax(scores, axis=-1), scores):\n",
    "        if score[index]>threshhold:\n",
    "            list_of_codes_per_sample.append(codes[index])\n",
    "        else:\n",
    "            list_of_codes_per_sample.append(-1)\n",
    "    \n",
    "    correct = 0\n",
    "    for i,j in zip(list_of_codes_per_sample, val_data['code']):\n",
    "        if i == -1:\n",
    "            i = 'NO_CODE'\n",
    "        if i == j:\n",
    "            correct += 1\n",
    "    print(threshhold, correct/len(list_of_codes_per_sample))"
   ]
  },
  {
   "cell_type": "code",
   "execution_count": 12,
   "id": "01da47d7-c2fd-483b-adaa-36364bafb993",
   "metadata": {
    "scrolled": true
   },
   "outputs": [
    {
     "name": "stdout",
     "output_type": "stream",
     "text": [
      "0.5 0.4410919540229885 696\n",
      "0.55 0.4442836468885673 691\n",
      "0.6 0.4473684210526316 684\n",
      "0.65 0.4686064318529862 653\n",
      "0.7 0.49917627677100496 607\n",
      "0.75 0.5471349353049908 541\n",
      "0.8 0.6247288503253796 461\n",
      "0.85 0.7223719676549866 371\n",
      "0.9 0.7892976588628763 299\n",
      "0.95 0.8218623481781376 247\n",
      "0.99 0.8430232558139535 172\n",
      "0.98 0.8449197860962567 187\n",
      "1.0 0.7592592592592593 54\n"
     ]
    }
   ],
   "source": [
    "for threshhold in[0.50,0.55, 0.60,0.65,0.70,0.75,0.80,0.85,0.90,0.95,0.99,0.98, 1.0]:\n",
    "    list_of_codes_per_sample = []\n",
    "    confidence_counter =0\n",
    "    for index, score in zip(np.argmax(scores, axis=-1), scores):\n",
    "        if score[index]>threshhold:\n",
    "            list_of_codes_per_sample.append(codes[index])\n",
    "        else:\n",
    "            list_of_codes_per_sample.append(-1)\n",
    "    \n",
    "    correct = 0\n",
    "    for i,j,k in zip(list_of_codes_per_sample, val_data['code'], val_data_text):\n",
    "        if i != -1:\n",
    "            confidence_counter+=1\n",
    "            if i == j:\n",
    "                correct += 1\n",
    "            # else:\n",
    "                # try:\n",
    "                #     print(list(snomed[snomed['code']==int(i)]['term']), list(snomed[snomed['code']==int(j)]['term']), k)\n",
    "                # except:\n",
    "                #     print(i,j)\n",
    "    print(threshhold, correct/confidence_counter, confidence_counter)"
   ]
  },
  {
   "cell_type": "code",
   "execution_count": 13,
   "id": "572ebd41-553c-43c1-bb7c-330a6dcd5848",
   "metadata": {},
   "outputs": [
    {
     "data": {
      "text/plain": [
       "['mala oclusión dental']"
      ]
     },
     "execution_count": 13,
     "metadata": {},
     "output_type": "execute_result"
    }
   ],
   "source": [
    "list(snomed[snomed['code']==int(j)].term)"
   ]
  },
  {
   "cell_type": "code",
   "execution_count": 42,
   "id": "0b275c78-3232-4391-b860-1155d0cf9cb8",
   "metadata": {},
   "outputs": [
    {
     "name": "stdout",
     "output_type": "stream",
     "text": [
      "0.2 0.011494252873563218\n",
      "0.15 0.08189655172413793\n",
      "0.1 0.17672413793103448\n",
      "0.05 0.3132183908045977\n",
      "0.01 0.4425287356321839\n",
      "0.005 0.46264367816091956\n",
      "0.001 0.4755747126436782\n",
      "0.0001 0.47701149425287354\n"
     ]
    }
   ],
   "source": [
    "for threshhold in [0.2, 0.15, 0.1, 0.05, 0.01, 0.005, 0.001, 0.0001]:\n",
    "    list_of_codes_per_sample = []\n",
    "    confidence_counter = 0\n",
    "\n",
    "    \n",
    "    for score in scores:\n",
    "        top_index, second_index = np.argsort(score)[::-1][:2]\n",
    "        \n",
    "        if (score[top_index] - score[second_index])> threshhold:\n",
    "            list_of_codes_per_sample.append(codes[top_index])\n",
    "        else:\n",
    "            list_of_codes_per_sample.append(-1)\n",
    "    \n",
    "    correct = 0\n",
    "    for i,j in zip(list_of_codes_per_sample, val_data['code']):\n",
    "        if i != -1:\n",
    "            confidence_counter+=1\n",
    "        if i == j:\n",
    "            correct += 1\n",
    "    print(threshhold, correct/len(list_of_codes_per_sample))\n",
    "\n",
    "\n",
    "# tmp"
   ]
  },
  {
   "cell_type": "code",
   "execution_count": 15,
   "id": "1823ae8e-6eef-4d2a-b80c-264e4d0e3d2b",
   "metadata": {},
   "outputs": [
    {
     "data": {
      "text/plain": [
       "array([0.86541665, 0.8390726 , 0.50508165, ..., 0.5093457 , 0.5625357 ,\n",
       "       0.6734853 ], dtype=float32)"
      ]
     },
     "execution_count": 15,
     "metadata": {},
     "output_type": "execute_result"
    }
   ],
   "source": [
    "np.max(scores, axis =0)"
   ]
  },
  {
   "cell_type": "code",
   "execution_count": 16,
   "id": "7319ebb9-ffd5-496e-934c-e017a43f19bc",
   "metadata": {},
   "outputs": [],
   "source": [
    "scores.sort()"
   ]
  },
  {
   "cell_type": "code",
   "execution_count": 17,
   "id": "ea7830df-adcf-4c5d-8824-a5262907d830",
   "metadata": {},
   "outputs": [
    {
     "ename": "AttributeError",
     "evalue": "'DataFrame' object has no attribute 'dtype'",
     "output_type": "error",
     "traceback": [
      "\u001b[0;31m---------------------------------------------------------------------------\u001b[0m",
      "\u001b[0;31mAttributeError\u001b[0m                            Traceback (most recent call last)",
      "\u001b[0;32m/tmp/ipykernel_307224/1011782933.py\u001b[0m in \u001b[0;36m?\u001b[0;34m()\u001b[0m\n\u001b[0;32m----> 1\u001b[0;31m \u001b[0msnomed\u001b[0m\u001b[0;34m.\u001b[0m\u001b[0mdtype\u001b[0m\u001b[0;34m(\u001b[0m\u001b[0;34m)\u001b[0m\u001b[0;34m\u001b[0m\u001b[0;34m\u001b[0m\u001b[0m\n\u001b[0m",
      "\u001b[0;32m~/BioCreativeVIII_Track1/biored/lib/python3.11/site-packages/pandas/core/generic.py\u001b[0m in \u001b[0;36m?\u001b[0;34m(self, name)\u001b[0m\n\u001b[1;32m   5985\u001b[0m             \u001b[0;32mand\u001b[0m \u001b[0mname\u001b[0m \u001b[0;32mnot\u001b[0m \u001b[0;32min\u001b[0m \u001b[0mself\u001b[0m\u001b[0;34m.\u001b[0m\u001b[0m_accessors\u001b[0m\u001b[0;34m\u001b[0m\u001b[0;34m\u001b[0m\u001b[0m\n\u001b[1;32m   5986\u001b[0m             \u001b[0;32mand\u001b[0m \u001b[0mself\u001b[0m\u001b[0;34m.\u001b[0m\u001b[0m_info_axis\u001b[0m\u001b[0;34m.\u001b[0m\u001b[0m_can_hold_identifiers_and_holds_name\u001b[0m\u001b[0;34m(\u001b[0m\u001b[0mname\u001b[0m\u001b[0;34m)\u001b[0m\u001b[0;34m\u001b[0m\u001b[0;34m\u001b[0m\u001b[0m\n\u001b[1;32m   5987\u001b[0m         ):\n\u001b[1;32m   5988\u001b[0m             \u001b[0;32mreturn\u001b[0m \u001b[0mself\u001b[0m\u001b[0;34m[\u001b[0m\u001b[0mname\u001b[0m\u001b[0;34m]\u001b[0m\u001b[0;34m\u001b[0m\u001b[0;34m\u001b[0m\u001b[0m\n\u001b[0;32m-> 5989\u001b[0;31m         \u001b[0;32mreturn\u001b[0m \u001b[0mobject\u001b[0m\u001b[0;34m.\u001b[0m\u001b[0m__getattribute__\u001b[0m\u001b[0;34m(\u001b[0m\u001b[0mself\u001b[0m\u001b[0;34m,\u001b[0m \u001b[0mname\u001b[0m\u001b[0;34m)\u001b[0m\u001b[0;34m\u001b[0m\u001b[0;34m\u001b[0m\u001b[0m\n\u001b[0m",
      "\u001b[0;31mAttributeError\u001b[0m: 'DataFrame' object has no attribute 'dtype'"
     ]
    }
   ],
   "source": [
    "snomed.dtype()"
   ]
  },
  {
   "cell_type": "code",
   "execution_count": null,
   "id": "4c3f8e07-f7ff-47fe-9b2b-b67f1a950363",
   "metadata": {},
   "outputs": [],
   "source": [
    "last_score = []\n",
    "for sample in scores:\n",
    "    last_score.append(sample[-1]-sample[-2])\n",
    "\n"
   ]
  },
  {
   "cell_type": "code",
   "execution_count": null,
   "id": "f0d843be-bd44-46f5-9673-f2e8abe9c420",
   "metadata": {
    "scrolled": true
   },
   "outputs": [],
   "source": [
    "last_score"
   ]
  },
  {
   "cell_type": "code",
   "execution_count": null,
   "id": "fc9f1c06-37e4-4828-9523-377d94c83c69",
   "metadata": {},
   "outputs": [],
   "source": [
    "import seaborn as sns"
   ]
  },
  {
   "cell_type": "code",
   "execution_count": null,
   "id": "ebce90bc-d311-4f4c-8682-5dc9b13a374a",
   "metadata": {},
   "outputs": [],
   "source": [
    "sns.histplot(last_score)"
   ]
  },
  {
   "cell_type": "code",
   "execution_count": null,
   "id": "caea2fbf-9a18-4490-8cef-527199f4a00e",
   "metadata": {
    "scrolled": true
   },
   "outputs": [],
   "source": [
    "last_score"
   ]
  },
  {
   "cell_type": "code",
   "execution_count": null,
   "id": "878bfcfd-4476-4337-866a-98177172cfae",
   "metadata": {},
   "outputs": [],
   "source": [
    "!ps"
   ]
  },
  {
   "cell_type": "code",
   "execution_count": null,
   "id": "b3f70e97-653f-4ad3-8c15-b09b56164389",
   "metadata": {},
   "outputs": [],
   "source": [
    "#0.43 - large\n",
    "# 0.39 - base "
   ]
  },
  {
   "cell_type": "code",
   "execution_count": null,
   "id": "12f0e207-513f-4353-9da4-792ba651e7e5",
   "metadata": {},
   "outputs": [],
   "source": [
    "    \n",
    "run_data[\"code\"] = list_of_codes_per_sample\n",
    "\n",
    "basename_run_file = os.path.basename(run_file)\n",
    "\n",
    "run_data.to_csv(os.path.join(output_folder,basename_run_file), sep=\"\\t\", index=False)\n",
    "    "
   ]
  },
  {
   "cell_type": "code",
   "execution_count": null,
   "id": "88af95e5-9fce-4c94-a8ad-d4346d53b4a9",
   "metadata": {},
   "outputs": [],
   "source": []
  },
  {
   "cell_type": "code",
   "execution_count": null,
   "id": "92a17a77-b460-4e37-8c66-621ef732d2d3",
   "metadata": {},
   "outputs": [],
   "source": []
  },
  {
   "cell_type": "code",
   "execution_count": null,
   "id": "6926d8ea-dad2-4503-b1be-ae2cd82fdd05",
   "metadata": {
    "scrolled": true
   },
   "outputs": [],
   "source": [
    "counter = 0\n",
    "for text_sample,code in zip(data['text'], data['code']):\n",
    "    if text_sample.lower() in snomed_code_dictionary.keys():\n",
    "        \n",
    "        if str(code) != str(snomed_code_dictionary[text_sample.lower()]):\n",
    "            # print(text_sample)\n",
    "            print(text_sample, code, snomed_code_dictionary[text_sample.lower()])\n",
    "            counter+=1\n",
    "\n",
    "counter"
   ]
  },
  {
   "cell_type": "code",
   "execution_count": null,
   "id": "d56bebae-3fa4-42d9-adde-01b68f17c188",
   "metadata": {},
   "outputs": [],
   "source": [
    "\n",
    "print(snomed[snomed['code']==29740003])\n",
    "print(snomed[snomed['code']==88275004])"
   ]
  },
  {
   "cell_type": "markdown",
   "id": "b7117343-f0f4-4391-9cf9-ffa152671fb4",
   "metadata": {},
   "source": [
    "difference between the train and actual codes is 80..."
   ]
  },
  {
   "cell_type": "code",
   "execution_count": null,
   "id": "3d3a0af8-5216-4db9-824c-8aa0f2efb098",
   "metadata": {},
   "outputs": [],
   "source": [
    "for i in snomed.iterrows():\n",
    "    print(i[1]['term'])\n",
    "    break"
   ]
  },
  {
   "cell_type": "code",
   "execution_count": null,
   "id": "1328b3cb-7b8d-44f8-b687-66a80107b52c",
   "metadata": {},
   "outputs": [],
   "source": [
    "len(snomed['code'].unique())"
   ]
  },
  {
   "cell_type": "code",
   "execution_count": null,
   "id": "17e555f5-d87b-4dcd-b0ee-8c6a961f7b87",
   "metadata": {},
   "outputs": [],
   "source": [
    "val_data"
   ]
  }
 ],
 "metadata": {
  "kernelspec": {
   "display_name": "biored",
   "language": "python",
   "name": "biored"
  },
  "language_info": {
   "codemirror_mode": {
    "name": "ipython",
    "version": 3
   },
   "file_extension": ".py",
   "mimetype": "text/x-python",
   "name": "python",
   "nbconvert_exporter": "python",
   "pygments_lexer": "ipython3",
   "version": "3.11.4"
  }
 },
 "nbformat": 4,
 "nbformat_minor": 5
}
